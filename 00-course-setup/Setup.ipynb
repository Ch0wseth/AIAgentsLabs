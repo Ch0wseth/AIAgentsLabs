{
 "cells": [
  {
   "cell_type": "markdown",
   "id": "9e40804d",
   "metadata": {},
   "source": [
    "# Course Setup\n",
    "\n",
    "## Introduction\n",
    "\n",
    "This lesson will cover how to run the code samples of this course.\n",
    "\n",
    "## Requirements\n",
    "\n",
    "- A GitHub Account\n",
    "- Python 3.12+ (Included in the code spaces)\n",
    "\n",
    "## Clone or Fork this Repo\n",
    "\n",
    "To begin, please clone or fork the GitHub Repository. This will make your own version of the course material so that you can run, test, and tweak the code!\n",
    "\n",
    "This can be done by clicking the link to <a href=\"https://github.com/{}/fork\" target=\"_blank\">fork the repo</a>\n",
    "\n",
    "\n",
    "## Retrieve Your GitHub Personal Access Token (PAT)\n",
    "\n",
    "Currently, this course uses the Github Models Marketplace to offer free access to Large Language Models (LLMs) that will be used to create AI Agents.\n",
    "\n",
    "To access this service, you will need to create a GitHub Personal Access Token.\n",
    "\n",
    "This can be done by going to your <a href=\"https://github.com/settings/personal-access-tokens\" target=\"_blank\">Personal Access Tokens settings</a> in your GitHub Account.\n",
    "\n",
    "Select the `Fine-grained tokens` option on the left side of your screen.\n",
    "\n",
    "Then select `Generate new token`.\n",
    "\n",
    "![Generate Token](./images/generate-token.png)\n",
    "\n",
    "Copy your new token that you have just created. You will now add this to your `.env` file included in this course. \n",
    "\n",
    "## Add this to your Environment Variables\n",
    "\n",
    "To create your `.env` file run the following command in your terminal:\n",
    "\n",
    "```bash\n",
    "cp .env.example .env\n",
    "```\n",
    "\n",
    "This will copy the example file and create a `.env` in your directory, fill in the values for the environment variables. You can locate the values for each environment variable in the following locations of the [Azure AI Foundry](https://ai.azure.com?WT.mc_id=academic-105485-koreyst) portal:\n",
    "\n",
    "Open that file and paste the token you created into the `GITHUB_TOKEN=` field of the .env file. \n",
    "- `AZURE_SUBSCRIPTION_ID` - On the **Overview** page of your project within **Project details**.\n",
    "- `AZURE_AI_PROJECT_NAME` - At the top of the **Overview** page for your project.\n",
    "- `AZURE_OPENAI_RESOURCE_GROUP` - On the **Overview** page of the **Management Center** within **Project properties**.\n",
    "- `AZURE_OPENAI_SERVICE` - On the **Overview** page of your project in the **Included capabilities** tab for **Azure OpenAI Service**.\n",
    "- `AZURE_OPENAI_API_VERSION` - On the [API version lifecycle](https://learn.microsoft.com/azure/ai-services/openai/api-version-deprecation#latest-ga-api-release?WT.mc_id=academic-105485-koreyst) webpage within the **Latest GA API release** section.\n",
    "- `AZURE_OPENAI_ENDPOINT` - On the **Details** tab of your model deployment within **Endpoint** (i.e. **Target URI**)\n",
    "- `GLOBAL_LLM_SERVICE` - On the **Overview** page of your project within **Project details**.\n",
    "- `AZURE_OPENAI_API_KEY` - On the **Overview** page of your project within **Project details**.\n",
    "- `AZURE_OPENAI_EMBEDDING_DEPLOYMENT_NAME` - On the **Overview** page of your project within **Project details**.\n",
    "- `AZURE_OPENAI_CHAT_DEPLOYMENT_NAME` - On the **Overview** page of your project within **Project details**.\n",
    "- `PROJECT_CONNECTION_STRING` - On the **Overview** page of your project within **Project details**.\n",
    "- `AZURE_SEARCH_SERVICE_ENDPOINT` - On the **Overview** page of your project within **Project details**.\n",
    "- `AZURE_SEARCH_API_KEY` - On the **Overview** page of your project within **Project details**.\n",
    "\n",
    "## Install Required Packages\n",
    "\n",
    "To ensure you have all the required Python packages to run the code, run the following command in your terminal.\n",
    "\n",
    "We recommend creating a Python virtual environment to avoid any conflicts and issues.\n",
    "\n",
    "## Access the environment variables.\n",
    "\n",
    "We'll import `os` and `load_dotenv` so that you can access the environment variables.\n",
    "\n",
    "```python\n",
    "import os\n",
    "from dotenv import load_dotenv\n",
    "\n",
    "load_dotenv()\n",
    "```\n",
    "\n",
    "\n",
    "\n"
   ]
  },
  {
   "cell_type": "code",
   "execution_count": 3,
   "id": "aaef8c74",
   "metadata": {},
   "outputs": [
    {
     "data": {
      "text/plain": [
       "True"
      ]
     },
     "execution_count": 3,
     "metadata": {},
     "output_type": "execute_result"
    }
   ],
   "source": [
    "import os\n",
    "from dotenv import load_dotenv\n",
    "\n",
    "load_dotenv()"
   ]
  }
 ],
 "metadata": {
  "kernelspec": {
   "display_name": "Python 3",
   "language": "python",
   "name": "python3"
  },
  "language_info": {
   "codemirror_mode": {
    "name": "ipython",
    "version": 3
   },
   "file_extension": ".py",
   "mimetype": "text/x-python",
   "name": "python",
   "nbconvert_exporter": "python",
   "pygments_lexer": "ipython3",
   "version": "3.12.1"
  }
 },
 "nbformat": 4,
 "nbformat_minor": 5
}
